{
 "cells": [
  {
   "cell_type": "code",
   "execution_count": 4,
   "id": "03be5961",
   "metadata": {},
   "outputs": [
    {
     "name": "stdout",
     "output_type": "stream",
     "text": [
      "100的因數:\n",
      "1\n",
      "2\n",
      "4\n",
      "5\n",
      "10\n",
      "20\n",
      "25\n",
      "50\n",
      "100\n"
     ]
    }
   ],
   "source": [
    "value = int(input(\"輸入1個整數:\"))\n",
    "print(f\"{value}的因數:\")\n",
    "\n",
    "factor = 1 \n",
    "while (factor <= value):\n",
    "    if value % factor == 0 :\n",
    "        print(factor)\n",
    "    factor +=1"
   ]
  },
  {
   "cell_type": "code",
   "execution_count": null,
   "id": "b401a20c",
   "metadata": {},
   "outputs": [],
   "source": [
    "value1 = int(input(\"請輸入第一個整數：\"))\n",
    "value2 = int(input(\"請輸入第二個整數：\"))\n",
    "print(f\"{value1} 及 {value2} 的公因數：\")\n",
    "\n",
    "factor = 1\n",
    "while (factor <= value1 and factor <= value2):\n",
    "    if value1 % factor == 0 and value2 % factor == 0:\n",
    "        print(factor)\n",
    "    factor += 1"
   ]
  },
  {
   "cell_type": "markdown",
   "id": "35b43222",
   "metadata": {},
   "source": [
    "while():\n",
    "\n",
    "while():\n",
    "break\n",
    "\n",
    "while():\n",
    "contine"
   ]
  },
  {
   "cell_type": "code",
   "execution_count": 7,
   "id": "32eebf82",
   "metadata": {},
   "outputs": [
    {
     "name": "stdout",
     "output_type": "stream",
     "text": [
      "Queen\n",
      "Queen\n",
      "Tte\n",
      "\n",
      "Dfa\n",
      "Dweq\n",
      "Zxcv\n",
      "Dfase\n",
      "end\n"
     ]
    }
   ],
   "source": [
    "while(True):\n",
    "    stuff = input(\"請輸入小寫英文字，會自動轉成大寫[按下q會結束]:\")\n",
    "    if stuff == 'q' or stuff == 'Q':\n",
    "        break\n",
    "    print(stuff.capitalize())\n",
    "print(\"end\")\n"
   ]
  },
  {
   "cell_type": "code",
   "execution_count": 2,
   "id": "37bf6976",
   "metadata": {},
   "outputs": [
    {
     "name": "stdout",
     "output_type": "stream",
     "text": [
      "輸入次數是2,所有輸入加總是:26\n"
     ]
    }
   ],
   "source": [
    "num = 0\n",
    "sum = 0 \n",
    "while(True):\n",
    "    input_value = int(input(f\"輸入{num+1}個整數:\"))\n",
    "    if input_value < 0 :\n",
    "        break\n",
    "    num += 1\n",
    "    if input_value % 2 ==1:\n",
    "        continue\n",
    "    sum += input_value\n",
    "\n",
    "print(f\"輸入次數是{num},所有輸入加總是:{sum}\")"
   ]
  },
  {
   "cell_type": "markdown",
   "id": "4ec3b779",
   "metadata": {},
   "source": [
    "內建random的module模組內的randit()function\n",
    "\n",
    "import random()\n",
    "\n",
    "randint()\n",
    "\n",
    "randint(a,b) -----#a = 參數 , b = 參數\n",
    "\n",
    "a和b之間的整數亂數"
   ]
  },
  {
   "cell_type": "code",
   "execution_count": 27,
   "id": "3bdc9564",
   "metadata": {},
   "outputs": [
    {
     "data": {
      "text/plain": [
       "30"
      ]
     },
     "execution_count": 27,
     "metadata": {},
     "output_type": "execute_result"
    }
   ],
   "source": [
    "import random\n",
    "\n",
    "random.randint(1,100)"
   ]
  },
  {
   "cell_type": "code",
   "execution_count": 44,
   "id": "adf2b40a",
   "metadata": {},
   "outputs": [
    {
     "data": {
      "text/plain": [
       "67"
      ]
     },
     "execution_count": 44,
     "metadata": {},
     "output_type": "execute_result"
    }
   ],
   "source": [
    "import random\n",
    "\n",
    "guess_value = random.randint(1,100)\n",
    "guess_value"
   ]
  },
  {
   "cell_type": "code",
   "execution_count": 49,
   "id": "b4ffe55a",
   "metadata": {},
   "outputs": [
    {
     "name": "stdout",
     "output_type": "stream",
     "text": [
      "==========猜數字遊戲===========\n",
      "\n",
      "沒有猜中!!!\n",
      "沒有猜中!!!\n",
      "沒有猜中!!!\n",
      "沒有猜中!!!\n",
      "沒有猜中!!!\n",
      "沒有猜中!!!\n",
      "賓果!猜對了,答案是:1\n",
      "您猜了7次\n",
      "遊戲結束\n"
     ]
    }
   ],
   "source": [
    "import random\n",
    "\n",
    "min = 1\n",
    "max = 10\n",
    "count = 0\n",
    "guess_value = random.randint(min,max)\n",
    "print(\"==========猜數字遊戲===========\\n\")\n",
    "while(True):\n",
    "    keyin = int(input(f\"猜數字範圍{min}~{max}\"))\n",
    "    count += 1\n",
    "    if keyin >= min and keyin <= 100:\n",
    "        if(keyin == guess_value):\n",
    "            print(f\"賓果!猜對了,答案是:{guess_value}\")\n",
    "            print(f\"您猜了{count}次\")\n",
    "            break\n",
    "        else:\n",
    "            print(\"沒有猜中!!!\")\n",
    "    else:\n",
    "        print(\"請輸入提示範圍內的數字\")\n",
    "\n",
    "print(\"遊戲結束\")"
   ]
  },
  {
   "cell_type": "code",
   "execution_count": 50,
   "id": "b7c41366",
   "metadata": {},
   "outputs": [
    {
     "name": "stdout",
     "output_type": "stream",
     "text": [
      "==========猜數字遊戲===========\n",
      "\n",
      "再大一點!\n",
      "再大一點!\n",
      "賓果!猜對了,答案是:50\n",
      "您猜了3次\n",
      "遊戲結束\n"
     ]
    }
   ],
   "source": [
    "import random\n",
    "\n",
    "min = 1\n",
    "max = 100\n",
    "count = 0\n",
    "guess_value = random.randint(min,max)\n",
    "print(\"==========猜數字遊戲===========\\n\")\n",
    "while(True):\n",
    "    keyin = int(input(f\"猜數字範圍{min}~{max}\"))\n",
    "    count += 1\n",
    "    if keyin >= min and keyin <= 100:\n",
    "        if(keyin == guess_value):\n",
    "            print(f\"賓果!猜對了,答案是:{guess_value}\")\n",
    "            print(f\"您猜了{count}次\")\n",
    "            break\n",
    "        elif keyin > guess_value:\n",
    "            print(\"再小一點!\")\n",
    "            max = keyin - 1\n",
    "        else:\n",
    "            print(\"再大一點!\")\n",
    "            min = keyin + 1\n",
    "    else:\n",
    "        print(\"請輸入提示範圍內的數字\")\n",
    "\n",
    "print(\"遊戲結束\")"
   ]
  }
 ],
 "metadata": {
  "kernelspec": {
   "display_name": "base",
   "language": "python",
   "name": "python3"
  },
  "language_info": {
   "codemirror_mode": {
    "name": "ipython",
    "version": 3
   },
   "file_extension": ".py",
   "mimetype": "text/x-python",
   "name": "python",
   "nbconvert_exporter": "python",
   "pygments_lexer": "ipython3",
   "version": "3.13.2"
  }
 },
 "nbformat": 4,
 "nbformat_minor": 5
}
