{
 "cells": [
  {
   "cell_type": "markdown",
   "id": "1491a13b",
   "metadata": {},
   "source": [
    "print =列印在螢幕上\n",
    "type  =檢查變數型別\n",
    "\n",
    "變數型別: int ,float ,str ,bool ,None (大寫N)"
   ]
  },
  {
   "cell_type": "code",
   "execution_count": null,
   "id": "316c8d38",
   "metadata": {},
   "outputs": [
    {
     "data": {
      "text/plain": [
       "37"
      ]
     },
     "execution_count": 2,
     "metadata": {},
     "output_type": "execute_result"
    }
   ],
   "source": [
    "#lesson3_1\n",
    "5+5.0+10\n",
    "\n",
    "5+2*16"
   ]
  },
  {
   "cell_type": "code",
   "execution_count": 3,
   "id": "8070e129",
   "metadata": {},
   "outputs": [
    {
     "data": {
      "text/plain": [
       "10"
      ]
     },
     "execution_count": 3,
     "metadata": {},
     "output_type": "execute_result"
    }
   ],
   "source": [
    "2*(1+2)**2-2**2*2"
   ]
  },
  {
   "cell_type": "code",
   "execution_count": null,
   "id": "b87ab449",
   "metadata": {},
   "outputs": [
    {
     "data": {
      "text/plain": [
       "float"
      ]
     },
     "execution_count": 23,
     "metadata": {},
     "output_type": "execute_result"
    }
   ],
   "source": [
    "#lesson3_2\n",
    "\n",
    "number1 = 10 \n",
    "type(number1)\n",
    "\n",
    "number2 = 20.2 \n",
    "type(number2)\n",
    "\n",
    "value = number1 + number2\n",
    "value\n",
    "\n",
    "type(value)\n",
    "\n",
    "\n"
   ]
  },
  {
   "cell_type": "code",
   "execution_count": 24,
   "id": "7207d8bc",
   "metadata": {},
   "outputs": [
    {
     "data": {
      "text/plain": [
       "60"
      ]
     },
     "execution_count": 24,
     "metadata": {},
     "output_type": "execute_result"
    }
   ],
   "source": [
    "str1 = \"30\"\n",
    "num1  = 30\n",
    "\n",
    "value = int(str1) + num1\n",
    "value"
   ]
  },
  {
   "cell_type": "code",
   "execution_count": 5,
   "id": "7998bba6",
   "metadata": {},
   "outputs": [
    {
     "name": "stdout",
     "output_type": "stream",
     "text": [
      "梯形面積等於: 32.5\n"
     ]
    }
   ],
   "source": [
    "#lesson3_3\n",
    "\n",
    "#上底公分 = 13.5\n",
    "#下底公分 = 21.3\n",
    "#高公分  = 2.3\n",
    "\n",
    "top = float(input(\"輸入上底(公分)\")) \n",
    "bottom = float(input(\"輸入下底(公分)\")) \n",
    "height = float(input(\"輸入高(公分)\")) \n",
    "\n",
    "area = (top + bottom) * height/2\n",
    "print(\"梯形面積等於:\",round(area,ndigits=2))"
   ]
  },
  {
   "cell_type": "markdown",
   "id": "24cdcb59",
   "metadata": {},
   "source": [
    "數學運算\n",
    "\n",
    "number = 參數\n",
    "round\n",
    "area\n",
    "ndigits"
   ]
  },
  {
   "cell_type": "code",
   "execution_count": 4,
   "id": "f28b1239",
   "metadata": {},
   "outputs": [
    {
     "data": {
      "text/plain": [
       "43.0"
      ]
     },
     "execution_count": 4,
     "metadata": {},
     "output_type": "execute_result"
    }
   ],
   "source": [
    "value = input(\"輸入一個數值:\")\n",
    "type(value)\n",
    "value_float = float(value)\n",
    "value_float\n"
   ]
  },
  {
   "cell_type": "markdown",
   "id": "2595dc56",
   "metadata": {},
   "source": [
    "python程式所需要   運算式 敘述式 變數 資料類型 \n",
    "\n",
    "內建function: \n",
    "print()\n",
    "input()\n",
    "type()\n",
    "round()\n",
    "int()\n",
    "float()\n",
    "str()\n",
    "bool()\n",
    "等等 任何位置\n",
    "\n",
    "數學運算:\n",
    "數學運算子\n",
    "指定運算子(=) <----最後做的運算\n",
    "\n"
   ]
  }
 ],
 "metadata": {
  "kernelspec": {
   "display_name": "base",
   "language": "python",
   "name": "python3"
  },
  "language_info": {
   "codemirror_mode": {
    "name": "ipython",
    "version": 3
   },
   "file_extension": ".py",
   "mimetype": "text/x-python",
   "name": "python",
   "nbconvert_exporter": "python",
   "pygments_lexer": "ipython3",
   "version": "3.13.2"
  }
 },
 "nbformat": 4,
 "nbformat_minor": 5
}
