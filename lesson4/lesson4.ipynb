{
 "cells": [
  {
   "cell_type": "markdown",
   "id": "371452e4",
   "metadata": {},
   "source": [
    "input()\n",
    "input(promty) <--參數\n",
    "\n",
    "input(\"輸入一個數值:\") <--引數值 和 字串\n",
    "\n",
    "數值如果要含浮點數 type => str \n",
    "\n",
    "float(input(\"輸入一個數值:\"))\n",
    "\n",
    "數值需要敘述式 需要定義 value\n",
    "\n",
    "value = float(input(\"輸入一個數值:\"))\n",
    "\n",
    "最終結果 先執行 input() > float() > value \n",
    "如果float包含input，就只是執行input，所以要加入value才有浮點數值\n",
    "\n",
    "\n"
   ]
  },
  {
   "cell_type": "code",
   "execution_count": 3,
   "id": "a98a09d4",
   "metadata": {},
   "outputs": [
    {
     "name": "stdout",
     "output_type": "stream",
     "text": [
      "答案結果是 30.0\n"
     ]
    }
   ],
   "source": [
    "value1 = float(input(\"輸入一個數值:\"))\n",
    "value2 = float(input(\"輸入一個數值:\"))\n",
    "value3 = float(input(\"輸入一個數值:\"))\n",
    "\n",
    "total = value1 + value2 + value3\n",
    "print(\"答案結果是\", total)"
   ]
  },
  {
   "cell_type": "markdown",
   "id": "f9297833",
   "metadata": {},
   "source": [
    "print(*objects, sep='', end='\\n', file=None, flush=False)\n",
    "\n",
    "*objects = 沒有限定引數值\n",
    "sep=''   = 預設值\n",
    "\n",
    "print()"
   ]
  },
  {
   "cell_type": "code",
   "execution_count": 4,
   "id": "8cda1a3f",
   "metadata": {},
   "outputs": [
    {
     "name": "stdout",
     "output_type": "stream",
     "text": [
      "n= 50\n"
     ]
    }
   ],
   "source": [
    "n = 25\n",
    "n = n+25\n",
    "print(\"n=\",n)"
   ]
  },
  {
   "cell_type": "code",
   "execution_count": 6,
   "id": "3782a59e",
   "metadata": {},
   "outputs": [
    {
     "name": "stdout",
     "output_type": "stream",
     "text": [
      "n= 8\n"
     ]
    }
   ],
   "source": [
    "#複合指定運算子\n",
    "# +=\n",
    "# *=\n",
    "# -=\n",
    "n = 2\n",
    "n += 2\n",
    "n *= 2\n",
    "print(\"n=\",n)"
   ]
  },
  {
   "cell_type": "code",
   "execution_count": 7,
   "id": "95522094",
   "metadata": {},
   "outputs": [
    {
     "name": "stdout",
     "output_type": "stream",
     "text": [
      "答案結果是 24.0\n"
     ]
    }
   ],
   "source": [
    "total = 0 \n",
    "value = float(input(\"輸入一個數值:\"))\n",
    "total += value\n",
    "\n",
    "value = float(input(\"輸入二個數值:\"))\n",
    "total += value\n",
    "\n",
    "value = float(input(\"輸入三個數值:\"))\n",
    "total += value\n",
    "\n",
    "print(\"答案結果是\", total)"
   ]
  }
 ],
 "metadata": {
  "kernelspec": {
   "display_name": "base",
   "language": "python",
   "name": "python3"
  },
  "language_info": {
   "codemirror_mode": {
    "name": "ipython",
    "version": 3
   },
   "file_extension": ".py",
   "mimetype": "text/x-python",
   "name": "python",
   "nbconvert_exporter": "python",
   "pygments_lexer": "ipython3",
   "version": "3.13.2"
  }
 },
 "nbformat": 4,
 "nbformat_minor": 5
}
