{
 "cells": [
  {
   "cell_type": "code",
   "execution_count": 1,
   "id": "4e695a3a",
   "metadata": {},
   "outputs": [
    {
     "data": {
      "text/plain": [
       "array([ 0, 10, 20, 30, 40, 50, 60, 70, 80, 90])"
      ]
     },
     "execution_count": 1,
     "metadata": {},
     "output_type": "execute_result"
    }
   ],
   "source": [
    "import numpy as np\n",
    "arr = np.arange(10) * 10\n",
    "arr"
   ]
  },
  {
   "cell_type": "code",
   "execution_count": 5,
   "id": "df5cc616",
   "metadata": {},
   "outputs": [
    {
     "data": {
      "text/plain": [
       "array([50, 60, 70, 80, 90])"
      ]
     },
     "execution_count": 5,
     "metadata": {},
     "output_type": "execute_result"
    }
   ],
   "source": [
    "arr[1]\n",
    "\n",
    "#slice\n",
    "arr[:5] #前5個\n",
    "arr[-5:] #最後5個\n"
   ]
  },
  {
   "cell_type": "code",
   "execution_count": 6,
   "id": "f33f5ccc",
   "metadata": {},
   "outputs": [
    {
     "data": {
      "text/plain": [
       "array([[ 84,  53,  54,  61,  99],\n",
       "       [ 51,  56,  99,  94,  63],\n",
       "       [ 91,  66,  83,  61,  95],\n",
       "       [ 61, 100,  72,  94,  63],\n",
       "       [ 96,  53,  98,  62,  50],\n",
       "       [ 82,  75,  79,  91,  98],\n",
       "       [ 89,  60,  53,  93,  88],\n",
       "       [ 64,  95,  88,  70,  71],\n",
       "       [ 81,  71,  88,  70,  99],\n",
       "       [ 95,  56, 100,  51,  93],\n",
       "       [ 56,  62,  80,  57,  62],\n",
       "       [ 79,  88,  70,  52,  84],\n",
       "       [ 80,  59,  75,  56,  52],\n",
       "       [ 62,  61,  76,  82,  66],\n",
       "       [ 64,  68,  63,  79,  50],\n",
       "       [ 67,  53,  71,  78,  59],\n",
       "       [ 76,  99,  93, 100,  82],\n",
       "       [ 86,  99,  72,  72,  73],\n",
       "       [ 51,  59,  59,  56,  56],\n",
       "       [ 92,  67,  86,  59,  71],\n",
       "       [ 70,  58,  59,  74,  58],\n",
       "       [ 98,  66,  97,  81,  55],\n",
       "       [ 77,  63,  94,  97,  80],\n",
       "       [ 86,  55,  57,  80,  99],\n",
       "       [ 94,  58,  79,  59,  79],\n",
       "       [ 87,  87,  80,  97,  78],\n",
       "       [ 98,  63,  79,  63,  52],\n",
       "       [ 92,  52,  62,  83,  53],\n",
       "       [ 64,  80,  96,  53,  86],\n",
       "       [ 96,  93,  95,  54,  96],\n",
       "       [ 75,  68,  81,  70,  99],\n",
       "       [ 84,  91,  72,  62, 100],\n",
       "       [ 57,  79,  73,  95,  51],\n",
       "       [ 82,  68,  92,  71,  96],\n",
       "       [ 79,  63,  85,  81,  51],\n",
       "       [ 90,  57,  69,  63,  56],\n",
       "       [ 84,  78,  68,  64,  96],\n",
       "       [ 93,  59,  96,  88,  55],\n",
       "       [ 78,  95,  78,  89,  67],\n",
       "       [ 84,  89,  68,  87,  66],\n",
       "       [ 66,  66,  50,  53,  87],\n",
       "       [100,  87,  88,  67,  87],\n",
       "       [ 72,  83,  51,  91,  95],\n",
       "       [ 55,  95,  95,  87,  88],\n",
       "       [ 58,  82,  93,  73,  82],\n",
       "       [ 51,  69,  80,  78,  94],\n",
       "       [ 69,  64,  50,  60,  84],\n",
       "       [ 59,  58,  93,  66,  68],\n",
       "       [ 99,  99,  78,  76,  89],\n",
       "       [ 53,  79,  98,  70,  99]], dtype=int32)"
      ]
     },
     "execution_count": 6,
     "metadata": {},
     "output_type": "execute_result"
    }
   ],
   "source": [
    "scores = np.random.randint(50, 101,size=(50,5))\n",
    "scores\n",
    "\n"
   ]
  },
  {
   "cell_type": "code",
   "execution_count": 10,
   "id": "81a1a538",
   "metadata": {},
   "outputs": [
    {
     "data": {
      "text/plain": [
       "array([82, 75, 79, 91, 98], dtype=int32)"
      ]
     },
     "execution_count": 10,
     "metadata": {},
     "output_type": "execute_result"
    }
   ],
   "source": [
    "scores [5,:]"
   ]
  },
  {
   "cell_type": "code",
   "execution_count": 12,
   "id": "80fa2dac",
   "metadata": {},
   "outputs": [
    {
     "data": {
      "text/plain": [
       "array([ 54,  99,  83,  72,  98,  79,  53,  88,  88, 100,  80,  70,  75,\n",
       "        76,  63,  71,  93,  72,  59,  86,  59,  97,  94,  57,  79,  80,\n",
       "        79,  62,  96,  95,  81,  72,  73,  92,  85,  69,  68,  96,  78,\n",
       "        68,  50,  88,  51,  95,  93,  80,  50,  93,  78,  98], dtype=int32)"
      ]
     },
     "execution_count": 12,
     "metadata": {},
     "output_type": "execute_result"
    }
   ],
   "source": [
    "scores [:,0]\n",
    "scores [:,1]\n",
    "scores [:,2]"
   ]
  },
  {
   "cell_type": "code",
   "execution_count": 21,
   "id": "e4a2afb4",
   "metadata": {},
   "outputs": [
    {
     "data": {
      "text/plain": [
       "array([351, 363, 396, 390, 359, 425, 383, 388, 409, 395, 317, 373, 322,\n",
       "       347, 324, 328, 450, 402, 281, 375, 319, 397, 411, 377, 369, 429,\n",
       "       355, 342, 379, 434, 393, 409, 355, 409, 359, 335, 390, 391, 407,\n",
       "       394, 322, 429, 392, 420, 388, 372, 327, 344, 441, 399], dtype=int32)"
      ]
     },
     "execution_count": 21,
     "metadata": {},
     "output_type": "execute_result"
    }
   ],
   "source": [
    "total=scores [:,0] + scores[:,1] + scores [:,2] + scores [:,3] +scores [:,4]\n",
    "total"
   ]
  },
  {
   "cell_type": "code",
   "execution_count": 23,
   "id": "53e2a4ae",
   "metadata": {},
   "outputs": [
    {
     "data": {
      "text/plain": [
       "array([70.2, 72.6, 79.2, 78. , 71.8, 85. , 76.6, 77.6, 81.8, 79. , 63.4,\n",
       "       74.6, 64.4, 69.4, 64.8, 65.6, 90. , 80.4, 56.2, 75. , 63.8, 79.4,\n",
       "       82.2, 75.4, 73.8, 85.8, 71. , 68.4, 75.8, 86.8, 78.6, 81.8, 71. ,\n",
       "       81.8, 71.8, 67. , 78. , 78.2, 81.4, 78.8, 64.4, 85.8, 78.4, 84. ,\n",
       "       77.6, 74.4, 65.4, 68.8, 88.2, 79.8])"
      ]
     },
     "execution_count": 23,
     "metadata": {},
     "output_type": "execute_result"
    }
   ],
   "source": [
    "total /5"
   ]
  },
  {
   "cell_type": "code",
   "execution_count": 24,
   "id": "c1f51833",
   "metadata": {},
   "outputs": [
    {
     "data": {
      "text/plain": [
       "array([70.2, 72.6, 79.2, 78. , 71.8, 85. , 76.6, 77.6, 81.8, 79. , 63.4,\n",
       "       74.6, 64.4, 69.4, 64.8, 65.6, 90. , 80.4, 56.2, 75. , 63.8, 79.4,\n",
       "       82.2, 75.4, 73.8, 85.8, 71. , 68.4, 75.8, 86.8, 78.6, 81.8, 71. ,\n",
       "       81.8, 71.8, 67. , 78. , 78.2, 81.4, 78.8, 64.4, 85.8, 78.4, 84. ,\n",
       "       77.6, 74.4, 65.4, 68.8, 88.2, 79.8])"
      ]
     },
     "execution_count": 24,
     "metadata": {},
     "output_type": "execute_result"
    }
   ],
   "source": [
    "np.sum(scores,axis=1)\n",
    "np.mean(scores,axis=1)"
   ]
  },
  {
   "cell_type": "code",
   "execution_count": 25,
   "id": "f79671ff",
   "metadata": {},
   "outputs": [
    {
     "data": {
      "text/plain": [
       "array([70.2, 72.6, 79.2, 78. , 71.8, 85. , 76.6, 77.6, 81.8, 79. , 63.4,\n",
       "       74.6, 64.4, 69.4, 64.8, 65.6, 90. , 80.4, 56.2, 75. , 63.8, 79.4,\n",
       "       82.2, 75.4, 73.8, 85.8, 71. , 68.4, 75.8, 86.8, 78.6, 81.8, 71. ,\n",
       "       81.8, 71.8, 67. , 78. , 78.2, 81.4, 78.8, 64.4, 85.8, 78.4, 84. ,\n",
       "       77.6, 74.4, 65.4, 68.8, 88.2, 79.8])"
      ]
     },
     "execution_count": 25,
     "metadata": {},
     "output_type": "execute_result"
    }
   ],
   "source": [
    "scores.sum(axis=1)\n",
    "scores.mean(axis=1)"
   ]
  }
 ],
 "metadata": {
  "kernelspec": {
   "display_name": "data_analysis_1_3",
   "language": "python",
   "name": "python3"
  },
  "language_info": {
   "codemirror_mode": {
    "name": "ipython",
    "version": 3
   },
   "file_extension": ".py",
   "mimetype": "text/x-python",
   "name": "python",
   "nbconvert_exporter": "python",
   "pygments_lexer": "ipython3",
   "version": "3.12.11"
  }
 },
 "nbformat": 4,
 "nbformat_minor": 5
}
