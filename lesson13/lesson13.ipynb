{
 "cells": [
  {
   "cell_type": "code",
   "execution_count": null,
   "id": "edb99beb",
   "metadata": {},
   "outputs": [],
   "source": [
    "def my_func(my_list:list)->None:\n",
    "    for i in range(len(my_list)):"
   ]
  },
  {
   "cell_type": "code",
   "execution_count": null,
   "id": "77fd6c93",
   "metadata": {},
   "outputs": [
    {
     "data": {
      "text/plain": [
       "5"
      ]
     },
     "execution_count": 1,
     "metadata": {},
     "output_type": "execute_result"
    }
   ],
   "source": [
    "def multiply10(num:int):\n",
    "    num *= 10\n",
    "    return \n",
    "\n",
    "n=5\n",
    "multiply10(n)\n",
    "n"
   ]
  }
 ],
 "metadata": {
  "kernelspec": {
   "display_name": "data_analysis_1_3",
   "language": "python",
   "name": "python3"
  },
  "language_info": {
   "codemirror_mode": {
    "name": "ipython",
    "version": 3
   },
   "file_extension": ".py",
   "mimetype": "text/x-python",
   "name": "python",
   "nbconvert_exporter": "python",
   "pygments_lexer": "ipython3",
   "version": "3.12.11"
  }
 },
 "nbformat": 4,
 "nbformat_minor": 5
}
