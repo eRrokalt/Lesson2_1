{
 "cells": [
  {
   "cell_type": "markdown",
   "id": "3fc6c96e",
   "metadata": {},
   "source": [
    "hppt"
   ]
  },
  {
   "cell_type": "code",
   "execution_count": 4,
   "id": "0621838c",
   "metadata": {},
   "outputs": [
    {
     "name": "stdout",
     "output_type": "stream",
     "text": [
      "學生總分是: 105\n"
     ]
    }
   ],
   "source": [
    "scores = int(input(\"請輸入學生分數(最高300):\"))\n",
    "is_add = input(\"學生是否符合加分條件?(y,n)\")\n",
    "\n",
    "if is_add == \"y\": #單項選擇\n",
    "    scores *= 1.05\n",
    "\n",
    "print(\"學生總分是:\", round(scores))"
   ]
  },
  {
   "cell_type": "code",
   "execution_count": 3,
   "id": "8386d94b",
   "metadata": {},
   "outputs": [
    {
     "name": "stdout",
     "output_type": "stream",
     "text": [
      "總分不得超過300分\n",
      "程式結束\n"
     ]
    }
   ],
   "source": [
    "scores = int(input(\"請輸入學生分數(最高300):\"))\n",
    "if scores <=300:\n",
    "    is_add = input(\"學生是否符合加分條件?(y/n)\")\n",
    "\n",
    "    if is_add == \"y\":\n",
    "        scores *=1.05\n",
    "        if scores > 300:\n",
    "            scores = 300\n",
    "\n",
    "            print(\"學生總分是:\",round(scores))\n",
    "        else:\n",
    "            print(\"總分不得超過300分\")\n",
    "\n",
    "print(\"程式結束\")            "
   ]
  },
  {
   "cell_type": "code",
   "execution_count": 8,
   "id": "5761bbe4",
   "metadata": {},
   "outputs": [
    {
     "name": "stdout",
     "output_type": "stream",
     "text": [
      "格式錯誤\n",
      "程式結束\n"
     ]
    }
   ],
   "source": [
    "try:\n",
    "    money = int (input(\"請輸入金額:\"))\n",
    "except IndexError:\n",
    "    print(\"索引錯誤\")\n",
    "except ValueError:\n",
    "    print(\"格式錯誤\")\n",
    "except:\n",
    "    print(\"不知名的錯誤\")\n",
    "\n",
    "print(\"程式結束\")"
   ]
  },
  {
   "cell_type": "code",
   "execution_count": 14,
   "id": "746c878a",
   "metadata": {},
   "outputs": [
    {
     "name": "stdout",
     "output_type": "stream",
     "text": [
      "格式錯誤 invalid literal for int() with base 10: '41&'\n",
      "結束連線\n",
      "程式結束\n"
     ]
    }
   ],
   "source": [
    "try:\n",
    "    money = int(input(\"請輸入金額:\"))\n",
    "except IndexError as e:\n",
    "    print(\"索引錯誤\",e)\n",
    "except ValueError as e:\n",
    "    print(\"格式錯誤\",e)\n",
    "except:\n",
    "    print(\"不知名的錯誤\")\n",
    "else:\n",
    "    print(\"未出現錯誤\")\n",
    "finally:\n",
    "    print(\"結束連線\")\n",
    "\n",
    "print(\"程式結束\")"
   ]
  },
  {
   "cell_type": "code",
   "execution_count": null,
   "id": "73f12d45",
   "metadata": {},
   "outputs": [],
   "source": [
    "try:\n",
    "    money = int(input(\"請輸入金額:\"))\n",
    "    print(\"金額是:\",money)\n",
    "except:\n",
    "    print(\"格式錯誤\")\n",
    "\n",
    "print(\"程式結束\")"
   ]
  },
  {
   "cell_type": "code",
   "execution_count": 22,
   "id": "66b06d70",
   "metadata": {},
   "outputs": [
    {
     "name": "stdout",
     "output_type": "stream",
     "text": [
      "總分不得超過300分\n",
      "程式結束\n"
     ]
    }
   ],
   "source": [
    "try:\n",
    "\n",
    "    scores = int(input(\"請輸入學生分數(最高300):\"))\n",
    "    if scores <=300:\n",
    "        is_add = input(\"學生是否符合加分條件?(y/n)\")\n",
    "\n",
    "        if is_add == \"y\":\n",
    "            scores *=1.05\n",
    "            if scores > 300:\n",
    "                scores = 300\n",
    "\n",
    "        print(\"學生總分是:\",round(scores))\n",
    "    else:\n",
    "        raise Exception(\"總分不得超過300分\")\n",
    "\n",
    "\n",
    "except ValueError as e:\n",
    "    print(\"格式錯誤\",e)\n",
    "except Exception as e:\n",
    "    print(e)\n",
    "\n",
    "print(\"程式結束\")            "
   ]
  },
  {
   "cell_type": "code",
   "execution_count": 27,
   "id": "8e7736e4",
   "metadata": {},
   "outputs": [
    {
     "name": "stdout",
     "output_type": "stream",
     "text": [
      "score > 80\n"
     ]
    }
   ],
   "source": [
    "scores = 85\n",
    "\n",
    "if scores >=60:\n",
    "    if scores <=80:\n",
    "        print(\"60<= scores <=80\")\n",
    "    else:\n",
    "        print(\"score > 80\")\n",
    "else:\n",
    "    print(\"score < 60\")\n",
    "\n",
    "\n",
    "    "
   ]
  },
  {
   "cell_type": "code",
   "execution_count": 28,
   "id": "602750ad",
   "metadata": {},
   "outputs": [
    {
     "name": "stdout",
     "output_type": "stream",
     "text": [
      "60 <= scores <= 80\n"
     ]
    }
   ],
   "source": [
    "scores = 75\n",
    "if scores >= 60 and scores <=80:\n",
    "    print(\"60 <= scores <= 80\")\n",
    "else:\n",
    "    print(\"high or low \")\n",
    "\n"
   ]
  },
  {
   "cell_type": "code",
   "execution_count": null,
   "id": "695e7d10",
   "metadata": {},
   "outputs": [],
   "source": []
  }
 ],
 "metadata": {
  "kernelspec": {
   "display_name": "base",
   "language": "python",
   "name": "python3"
  },
  "language_info": {
   "codemirror_mode": {
    "name": "ipython",
    "version": 3
   },
   "file_extension": ".py",
   "mimetype": "text/x-python",
   "name": "python",
   "nbconvert_exporter": "python",
   "pygments_lexer": "ipython3",
   "version": "3.13.2"
  }
 },
 "nbformat": 4,
 "nbformat_minor": 5
}
