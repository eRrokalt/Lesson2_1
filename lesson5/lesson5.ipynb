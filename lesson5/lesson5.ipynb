{
 "cells": [
  {
   "cell_type": "markdown",
   "id": "3fc6c96e",
   "metadata": {},
   "source": [
    "hppt"
   ]
  },
  {
   "cell_type": "code",
   "execution_count": 4,
   "id": "0621838c",
   "metadata": {},
   "outputs": [
    {
     "name": "stdout",
     "output_type": "stream",
     "text": [
      "學生總分是: 105\n"
     ]
    }
   ],
   "source": [
    "scores = int(input(\"請輸入學生分數(最高300):\"))\n",
    "is_add = input(\"學生是否符合加分條件?(y,n)\")\n",
    "\n",
    "if is_add == \"y\": #單項選擇\n",
    "    scores *= 1.05\n",
    "\n",
    "print(\"學生總分是:\", round(scores))"
   ]
  },
  {
   "cell_type": "code",
   "execution_count": null,
   "id": "8386d94b",
   "metadata": {},
   "outputs": [
    {
     "name": "stdout",
     "output_type": "stream",
     "text": [
      "總分不得超過300分\n",
      "程式結束\n"
     ]
    }
   ],
   "source": [
    "scores = int(input(\"請輸入學生分數(最高300):\"))\n",
    "if scores <=300:\n",
    "    is_add = input(\"學生是否符合加分條件?(y/n)\")\n",
    "\n",
    "    if is_add == \"y\":\n",
    "        scores *=1.05\n",
    "        if scores > 300:\n",
    "            scores = 300\n",
    "\n",
    "            print(\"學生總分是:\",round(scores))\n",
    "        else:\n",
    "            print(\"總分不得超過300分\")\n",
    "\n",
    "print(\"程式結束\")            "
   ]
  },
  {
   "cell_type": "code",
   "execution_count": 36,
   "id": "5761bbe4",
   "metadata": {},
   "outputs": [
    {
     "name": "stdout",
     "output_type": "stream",
     "text": [
      "格式錯誤\n",
      "程式結束\n"
     ]
    }
   ],
   "source": [
    "try:\n",
    "    money = int (input(\"請輸入金額:\"))\n",
    "except IndexError:\n",
    "    print(\"索引錯誤\")\n",
    "except ValueError:\n",
    "    print(\"格式錯誤\")\n",
    "except:\n",
    "    print(\"不知名的錯誤\")\n",
    "\n",
    "print(\"程式結束\")"
   ]
  },
  {
   "cell_type": "code",
   "execution_count": 38,
   "id": "746c878a",
   "metadata": {},
   "outputs": [
    {
     "name": "stdout",
     "output_type": "stream",
     "text": [
      "格式錯誤 invalid literal for int() with base 10: '156&'\n",
      "結束連線\n",
      "程式結束\n"
     ]
    }
   ],
   "source": [
    "try:\n",
    "    money = int(input(\"請輸入金額:\"))\n",
    "except IndexError as e:\n",
    "    print(\"索引錯誤\",e)\n",
    "except ValueError as e:\n",
    "    print(\"格式錯誤\",e)\n",
    "except:\n",
    "    print(\"不知名的錯誤\")\n",
    "else:\n",
    "    print(\"未出現錯誤\")\n",
    "finally:\n",
    "    print(\"結束連線\")\n",
    "\n",
    "print(\"程式結束\")"
   ]
  },
  {
   "cell_type": "code",
   "execution_count": 3,
   "id": "73f12d45",
   "metadata": {},
   "outputs": [
    {
     "name": "stdout",
     "output_type": "stream",
     "text": [
      "金額是: 213\n",
      "程式結束\n"
     ]
    }
   ],
   "source": [
    "try:\n",
    "    money = int(input(\"請輸入金額:\"))\n",
    "    print(\"金額是:\",money)\n",
    "except:\n",
    "    print(\"格式錯誤\")\n",
    "\n",
    "print(\"程式結束\")"
   ]
  },
  {
   "cell_type": "code",
   "execution_count": 22,
   "id": "66b06d70",
   "metadata": {},
   "outputs": [
    {
     "name": "stdout",
     "output_type": "stream",
     "text": [
      "學生總分是: 158\n",
      "程式結束\n"
     ]
    }
   ],
   "source": [
    "try:\n",
    "\n",
    "    scores = int(input(\"請輸入學生分數(最高300):\"))\n",
    "    if scores <=300:\n",
    "        is_add = input(\"學生是否符合加分條件?(y/n)\")\n",
    "\n",
    "        if is_add == \"y\":\n",
    "            scores *=1.05\n",
    "            if scores > 300:\n",
    "                scores = 300\n",
    "\n",
    "        print(\"學生總分是:\",round(scores))\n",
    "    else:\n",
    "        raise Exception(\"總分不得超過300分\")\n",
    "\n",
    "\n",
    "except ValueError as scores:\n",
    "    print(\"格式錯誤\",scores)\n",
    "except Exception as scores:\n",
    "    print(scores)\n",
    "\n",
    "print(\"程式結束\")            "
   ]
  },
  {
   "cell_type": "code",
   "execution_count": 2,
   "id": "8e7736e4",
   "metadata": {},
   "outputs": [
    {
     "name": "stdout",
     "output_type": "stream",
     "text": [
      "score < 60\n"
     ]
    }
   ],
   "source": [
    "scores = float(input(\"random number:\"))\n",
    "\n",
    "if scores >=60:\n",
    "    if scores <=80:\n",
    "        print(\"60<= scores <=80\")\n",
    "    else:\n",
    "        print(\"score > 80\")\n",
    "else:\n",
    "    print(\"score < 60\")\n",
    "\n",
    "\n",
    "    "
   ]
  },
  {
   "cell_type": "code",
   "execution_count": 1,
   "id": "602750ad",
   "metadata": {},
   "outputs": [
    {
     "name": "stdout",
     "output_type": "stream",
     "text": [
      "60 <= scores <= 80\n"
     ]
    }
   ],
   "source": [
    "scores = 75\n",
    "if scores >= 60 and scores <=80:\n",
    "    print(\"60 <= scores <= 80\")\n",
    "else:\n",
    "    print(\"high or low \")\n",
    "\n"
   ]
  },
  {
   "cell_type": "code",
   "execution_count": 13,
   "id": "695e7d10",
   "metadata": {},
   "outputs": [
    {
     "name": "stdout",
     "output_type": "stream",
     "text": [
      "您的bmi是: 20.761245674740486\n",
      "身高無法計算小於120或著大於250\n",
      "體重無法計算小於30或著大於200\n"
     ]
    }
   ],
   "source": [
    "\n",
    "\n",
    "try:\n",
    "        value1 = float(input(\"輸入你的身高(120-250):\"))\n",
    "        value2 = float(input(\"輸入你的體重(30-200):\"))\n",
    "        scores = value2 / (value1*0.01)**2\n",
    "        print(\"您的bmi是:\",float(scores))     \n",
    "        if value1 <= 120 and value1 >= 250:\n",
    "         print(\"你的身高:\", value1)\n",
    "        else:\n",
    "         print(\"身高無法計算小於120或著大於250\")\n",
    "         \n",
    "\n",
    "        if value2 <= 30 and value2 >= 200:\n",
    "         print(\"你的體重:\", value2)\n",
    "        else:\n",
    "         print(\"體重無法計算小於30或著大於200\")\n",
    "  \n",
    "\n",
    "   \n",
    "except IndexError:\n",
    "    print(\"索引錯誤\")\n",
    "except ValueError:\n",
    "    print(\"格式錯誤\")\n",
    "except:\n",
    "    print(\"end\")\n",
    "\n"
   ]
  },
  {
   "cell_type": "code",
   "execution_count": null,
   "id": "43233541",
   "metadata": {},
   "outputs": [
    {
     "name": "stdout",
     "output_type": "stream",
     "text": [
      "你的身高: 170.0\n",
      "你的體重: 54.0\n",
      "您的bmi是: 18.69\n",
      "end\n"
     ]
    }
   ],
   "source": [
    "try:\n",
    "   \n",
    "    value1 = float(input(\"輸入你的身高(120-250):\"))\n",
    "    value2 = float(input(\"輸入你的體重(30-200):\"))\n",
    "\n",
    "    scores = value2 / (value1*0.01)**2\n",
    "\n",
    "    if value1 >= 120 and value1 <= 250:\n",
    "        print(\"你的身高:\",value1)\n",
    "        if value2 >= 30 and value2 <= 200:\n",
    "          print(\"你的體重:\",value2)\n",
    "\n",
    "          print(\"您的bmi是:\",round(scores,ndigits=2))\n",
    "    else:\n",
    "         print(\"身高體重無法計算小於數目或著大於數目\")\n",
    "except IndexError:\n",
    "    print(\"索引錯誤\")\n",
    "except ValueError:\n",
    "    print(\"格式錯誤\")\n",
    "else:\n",
    "    print(\"end\")\n"
   ]
  },
  {
   "cell_type": "code",
   "execution_count": null,
   "id": "b68f3888",
   "metadata": {},
   "outputs": [
    {
     "name": "stdout",
     "output_type": "stream",
     "text": [
      "您的bmi是: 9.739469198928656\n",
      "身高無法計算小於120或著大於250\n",
      "end\n"
     ]
    }
   ],
   "source": [
    "try:\n",
    "        value1 = float(input(\"輸入你的身高(120-250):\"))\n",
    "        value2 = float(input(\"輸入你的體重(30-200):\"))\n",
    "        scores = value2 / (value1*0.01)**2\n",
    "        \n",
    "        if value1 <= 120 and value1 >= 250:\n",
    "         print(\"你的身高:\", value1)\n",
    "        else:\n",
    "         print(\"身高無法計算小於120或著大於250\")\n",
    "except ValueError as value1:\n",
    "        print(\"身高輸入錯誤\",value1)\n",
    "\n",
    "\n",
    "        if value2 <= 30 and value2 >= 200:\n",
    "         print(\"你的體重:\", value2)\n",
    "        else:\n",
    "         print(\"體重無法計算小於30或著大於200\")\n",
    "except ValueError as value2:\n",
    "        print(\"體重輸入錯誤\",value2)\n",
    "else:\n",
    "        print(\"end\")\n",
    "\n",
    "\n",
    "   if(\n",
    "print(\"您的bmi是:\",float(scores))\n",
    "\n"
   ]
  },
  {
   "cell_type": "code",
   "execution_count": null,
   "id": "617c6322",
   "metadata": {},
   "outputs": [
    {
     "name": "stdout",
     "output_type": "stream",
     "text": [
      "你的身高體重不得超過或低於指定的數目\n"
     ]
    }
   ],
   "source": [
    "value1 = float(input(\"輸入你的身高(120-250):\"))\n",
    "value2 = float(input(\"輸入你的體重(30-200):\"))\n",
    "\n",
    "scores = value2 / (value1*0.01)**2\n",
    "\n",
    "if value1 <= 120 and value1 >= 250:\n",
    "    print(\"\")\n",
    "    \n",
    "        \n",
    "\n"
   ]
  }
 ],
 "metadata": {
  "kernelspec": {
   "display_name": "base",
   "language": "python",
   "name": "python3"
  },
  "language_info": {
   "codemirror_mode": {
    "name": "ipython",
    "version": 3
   },
   "file_extension": ".py",
   "mimetype": "text/x-python",
   "name": "python",
   "nbconvert_exporter": "python",
   "pygments_lexer": "ipython3",
   "version": "3.13.2"
  }
 },
 "nbformat": 4,
 "nbformat_minor": 5
}
